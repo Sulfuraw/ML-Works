{
 "cells": [
  {
   "cell_type": "code",
   "execution_count": 1,
   "metadata": {
    "collapsed": true
   },
   "outputs": [],
   "source": [
    "import numpy as np\n",
    "import from_scratch as fs\n",
    "import matplotlib.pyplot as plt"
   ]
  },
  {
   "cell_type": "code",
   "execution_count": 2,
   "outputs": [],
   "source": [
    "X = np.linspace(0, 1, 10000).reshape(-1, 1)\n",
    "y = (X*2)\n",
    "y = y + np.random.rand(*y.shape)/10"
   ],
   "metadata": {
    "collapsed": false,
    "pycharm": {
     "name": "#%%\n"
    }
   }
  },
  {
   "cell_type": "code",
   "execution_count": 3,
   "outputs": [
    {
     "name": "stdout",
     "output_type": "stream",
     "text": [
      "+------------+-------------+--------------+---------------+\n",
      "| Layer Name | Input Shape | Output Shape | Nb Parameters |\n",
      "+------------+-------------+--------------+---------------+\n",
      "|   Dense    |  (None, 1)  |  (None, 1)   |       2       |\n",
      "+------------+-------------+--------------+---------------+\n",
      "Total parameters : 2\n"
     ]
    }
   ],
   "source": [
    "model = fs.models.Sequential([\n",
    "    fs.layers.Dense(1, input_shape=(1,))\n",
    "])\n",
    "\n",
    "model.compile(\n",
    "    loss = fs.losses.mse(),\n",
    "    optimizer = fs.optimizers.sgd(lr=1e-4)\n",
    ")\n",
    "\n",
    "print(model.summary())"
   ],
   "metadata": {
    "collapsed": false,
    "pycharm": {
     "name": "#%%\n"
    }
   }
  },
  {
   "cell_type": "code",
   "execution_count": 4,
   "outputs": [
    {
     "name": "stdout",
     "output_type": "stream",
     "text": [
      "Epoch 1/150 : batch 40/Unknown : loss 6.060E-01\r\n",
      "Epoch 2/150 : batch 40/40 : loss 1.847E-01\r\n",
      "Epoch 3/150 : batch 40/40 : loss 1.652E-01\r\n",
      "Epoch 4/150 : batch 40/40 : loss 1.528E-01\r\n",
      "Epoch 5/150 : batch 40/40 : loss 1.366E-01\r\n",
      "Epoch 6/150 : batch 40/40 : loss 1.206E-01\r\n",
      "Epoch 7/150 : batch 40/40 : loss 1.061E-01\r\n",
      "Epoch 8/150 : batch 40/40 : loss 9.315E-02\r\n",
      "Epoch 9/150 : batch 40/40 : loss 8.180E-02\r\n",
      "Epoch 10/150 : batch 40/40 : loss 7.182E-02\r\n",
      "Epoch 11/150 : batch 40/40 : loss 6.307E-02\r\n",
      "Epoch 12/150 : batch 40/40 : loss 5.539E-02\r\n",
      "Epoch 13/150 : batch 40/40 : loss 4.865E-02\r\n",
      "Epoch 14/150 : batch 40/40 : loss 4.273E-02\r\n",
      "Epoch 15/150 : batch 40/40 : loss 3.754E-02\r\n",
      "Epoch 16/150 : batch 40/40 : loss 3.299E-02\r\n",
      "Epoch 17/150 : batch 40/40 : loss 2.899E-02\r\n",
      "Epoch 18/150 : batch 40/40 : loss 2.549E-02\r\n",
      "Epoch 19/150 : batch 40/40 : loss 2.241E-02\r\n",
      "Epoch 20/150 : batch 40/40 : loss 1.971E-02\r\n",
      "Epoch 21/150 : batch 40/40 : loss 1.734E-02\r\n",
      "Epoch 22/150 : batch 40/40 : loss 1.526E-02\r\n",
      "Epoch 23/150 : batch 40/40 : loss 1.344E-02\r\n",
      "Epoch 24/150 : batch 40/40 : loss 1.184E-02\r\n",
      "Epoch 25/150 : batch 40/40 : loss 1.044E-02\r\n",
      "Epoch 26/150 : batch 40/40 : loss 9.208E-03\r\n",
      "Epoch 27/150 : batch 40/40 : loss 8.127E-03\r\n",
      "Epoch 28/150 : batch 40/40 : loss 7.180E-03\r\n",
      "Epoch 29/150 : batch 40/40 : loss 6.348E-03\r\n",
      "Epoch 30/150 : batch 40/40 : loss 5.619E-03\r\n",
      "Epoch 31/150 : batch 40/40 : loss 4.979E-03\r\n",
      "Epoch 32/150 : batch 40/40 : loss 4.418E-03\r\n",
      "Epoch 33/150 : batch 40/40 : loss 3.925E-03\r\n",
      "Epoch 34/150 : batch 40/40 : loss 3.493E-03\r\n",
      "Epoch 35/150 : batch 40/40 : loss 3.114E-03\r\n",
      "Epoch 36/150 : batch 40/40 : loss 2.781E-03\r\n",
      "Epoch 37/150 : batch 40/40 : loss 2.490E-03\r\n",
      "Epoch 38/150 : batch 40/40 : loss 2.234E-03\r\n",
      "Epoch 39/150 : batch 40/40 : loss 2.009E-03\r\n",
      "Epoch 40/150 : batch 40/40 : loss 1.813E-03\r\n",
      "Epoch 41/150 : batch 40/40 : loss 1.640E-03\r\n",
      "Epoch 42/150 : batch 40/40 : loss 1.489E-03\r\n",
      "Epoch 43/150 : batch 40/40 : loss 1.356E-03\r\n",
      "Epoch 44/150 : batch 40/40 : loss 1.239E-03\r\n",
      "Epoch 45/150 : batch 40/40 : loss 1.137E-03\r\n",
      "Epoch 46/150 : batch 40/40 : loss 1.048E-03\r\n",
      "Epoch 47/150 : batch 40/40 : loss 9.690E-04\r\n",
      "Epoch 48/150 : batch 40/40 : loss 9.001E-04\r\n",
      "Epoch 49/150 : batch 40/40 : loss 8.397E-04\r\n",
      "Epoch 50/150 : batch 40/40 : loss 7.868E-04\r\n",
      "Epoch 51/150 : batch 40/40 : loss 7.403E-04\r\n",
      "Epoch 52/150 : batch 40/40 : loss 6.996E-04\r\n",
      "Epoch 53/150 : batch 40/40 : loss 6.640E-04\r\n",
      "Epoch 54/150 : batch 40/40 : loss 6.327E-04\r\n",
      "Epoch 55/150 : batch 40/40 : loss 6.053E-04\r\n",
      "Epoch 56/150 : batch 40/40 : loss 5.813E-04\r\n",
      "Epoch 57/150 : batch 40/40 : loss 5.602E-04\r\n",
      "Epoch 58/150 : batch 40/40 : loss 5.417E-04\r\n",
      "Epoch 59/150 : batch 40/40 : loss 5.256E-04\r\n",
      "Epoch 60/150 : batch 40/40 : loss 5.114E-04\r\n",
      "Epoch 61/150 : batch 40/40 : loss 4.990E-04\r\n",
      "Epoch 62/150 : batch 40/40 : loss 4.881E-04\r\n",
      "Epoch 63/150 : batch 40/40 : loss 4.786E-04\r\n",
      "Epoch 64/150 : batch 40/40 : loss 4.703E-04\r\n",
      "Epoch 65/150 : batch 40/40 : loss 4.630E-04\r\n",
      "Epoch 66/150 : batch 40/40 : loss 4.566E-04\r\n",
      "Epoch 67/150 : batch 40/40 : loss 4.510E-04\r\n",
      "Epoch 68/150 : batch 40/40 : loss 4.461E-04\r\n",
      "Epoch 69/150 : batch 40/40 : loss 4.418E-04\r\n",
      "Epoch 70/150 : batch 40/40 : loss 4.381E-04\r\n",
      "Epoch 71/150 : batch 40/40 : loss 4.348E-04\r\n",
      "Epoch 72/150 : batch 40/40 : loss 4.320E-04\r\n",
      "Epoch 73/150 : batch 40/40 : loss 4.295E-04\r\n",
      "Epoch 74/150 : batch 40/40 : loss 4.273E-04\r\n",
      "Epoch 75/150 : batch 40/40 : loss 4.254E-04\r\n",
      "Epoch 76/150 : batch 40/40 : loss 4.237E-04\r\n",
      "Epoch 77/150 : batch 40/40 : loss 4.222E-04\r\n",
      "Epoch 78/150 : batch 40/40 : loss 4.210E-04\r\n",
      "Epoch 79/150 : batch 40/40 : loss 4.199E-04\r\n",
      "Epoch 80/150 : batch 40/40 : loss 4.189E-04\r\n",
      "Epoch 81/150 : batch 40/40 : loss 4.181E-04\r\n",
      "Epoch 82/150 : batch 40/40 : loss 4.173E-04\r\n",
      "Epoch 83/150 : batch 40/40 : loss 4.167E-04\r\n",
      "Epoch 84/150 : batch 40/40 : loss 4.161E-04\r\n",
      "Epoch 85/150 : batch 40/40 : loss 4.156E-04\r\n",
      "Epoch 86/150 : batch 40/40 : loss 4.152E-04\r\n",
      "Epoch 87/150 : batch 40/40 : loss 4.149E-04\r\n",
      "Epoch 88/150 : batch 40/40 : loss 4.145E-04\r\n",
      "Epoch 89/150 : batch 40/40 : loss 4.143E-04\r\n",
      "Epoch 90/150 : batch 40/40 : loss 4.140E-04\r\n",
      "Epoch 91/150 : batch 40/40 : loss 4.138E-04\r\n",
      "Epoch 92/150 : batch 40/40 : loss 4.137E-04\r\n",
      "Epoch 93/150 : batch 40/40 : loss 4.135E-04\r\n",
      "Epoch 94/150 : batch 40/40 : loss 4.134E-04\r\n",
      "Epoch 95/150 : batch 40/40 : loss 4.133E-04\r\n",
      "Epoch 96/150 : batch 40/40 : loss 4.132E-04\r\n",
      "Epoch 97/150 : batch 40/40 : loss 4.131E-04\r\n",
      "Epoch 98/150 : batch 40/40 : loss 4.130E-04\r\n",
      "Epoch 99/150 : batch 40/40 : loss 4.129E-04\r\n",
      "Epoch 100/150 : batch 40/40 : loss 4.129E-04\r\n",
      "Epoch 101/150 : batch 40/40 : loss 4.128E-04\r\n",
      "Epoch 102/150 : batch 40/40 : loss 4.128E-04\r\n",
      "Epoch 103/150 : batch 40/40 : loss 4.128E-04\r\n",
      "Epoch 104/150 : batch 40/40 : loss 4.128E-04\r\n",
      "Epoch 105/150 : batch 40/40 : loss 4.127E-04\r\n",
      "Epoch 106/150 : batch 40/40 : loss 4.127E-04\r\n",
      "Epoch 107/150 : batch 40/40 : loss 4.127E-04\r\n",
      "Epoch 108/150 : batch 40/40 : loss 4.127E-04\r\n",
      "Epoch 109/150 : batch 40/40 : loss 4.127E-04\r\n",
      "Epoch 110/150 : batch 40/40 : loss 4.127E-04\r\n",
      "Epoch 111/150 : batch 40/40 : loss 4.127E-04\r\n",
      "Epoch 112/150 : batch 40/40 : loss 4.127E-04\r\n",
      "Epoch 113/150 : batch 40/40 : loss 4.127E-04\r\n",
      "Epoch 114/150 : batch 40/40 : loss 4.127E-04\r\n",
      "Epoch 115/150 : batch 40/40 : loss 4.127E-04\r\n",
      "Epoch 116/150 : batch 40/40 : loss 4.127E-04\r\n",
      "Epoch 117/150 : batch 40/40 : loss 4.127E-04\r\n",
      "Epoch 118/150 : batch 40/40 : loss 4.127E-04\r\n",
      "Epoch 119/150 : batch 40/40 : loss 4.127E-04\r\n",
      "Epoch 120/150 : batch 40/40 : loss 4.127E-04\r\n",
      "Epoch 121/150 : batch 40/40 : loss 4.127E-04\r\n",
      "Epoch 122/150 : batch 40/40 : loss 4.127E-04\r\n",
      "Epoch 123/150 : batch 40/40 : loss 4.127E-04\r\n",
      "Epoch 124/150 : batch 40/40 : loss 4.127E-04\r\n",
      "Epoch 125/150 : batch 40/40 : loss 4.127E-04\r\n",
      "Epoch 126/150 : batch 40/40 : loss 4.127E-04\r\n",
      "Epoch 127/150 : batch 40/40 : loss 4.127E-04\r\n",
      "Epoch 128/150 : batch 40/40 : loss 4.127E-04\r\n",
      "Epoch 129/150 : batch 40/40 : loss 4.127E-04\r\n",
      "Epoch 130/150 : batch 40/40 : loss 4.127E-04\r\n",
      "Epoch 131/150 : batch 40/40 : loss 4.127E-04\r\n",
      "Epoch 132/150 : batch 40/40 : loss 4.127E-04\r\n",
      "Epoch 133/150 : batch 40/40 : loss 4.127E-04\r\n",
      "Epoch 134/150 : batch 40/40 : loss 4.127E-04\r\n",
      "Epoch 135/150 : batch 40/40 : loss 4.127E-04\r\n",
      "Epoch 136/150 : batch 40/40 : loss 4.127E-04\r\n",
      "Epoch 137/150 : batch 40/40 : loss 4.127E-04\r\n",
      "Epoch 138/150 : batch 40/40 : loss 4.127E-04\r\n",
      "Epoch 139/150 : batch 40/40 : loss 4.127E-04\r\n",
      "Epoch 140/150 : batch 40/40 : loss 4.127E-04\r\n",
      "Epoch 141/150 : batch 40/40 : loss 4.127E-04\r\n",
      "Epoch 142/150 : batch 40/40 : loss 4.127E-04\r\n",
      "Epoch 143/150 : batch 40/40 : loss 4.127E-04\r\n",
      "Epoch 144/150 : batch 40/40 : loss 4.127E-04\r\n",
      "Epoch 145/150 : batch 40/40 : loss 4.127E-04\r\n",
      "Epoch 146/150 : batch 40/40 : loss 4.127E-04\r\n",
      "Epoch 147/150 : batch 40/40 : loss 4.127E-04\r\n",
      "Epoch 148/150 : batch 40/40 : loss 4.127E-04\r\n",
      "Epoch 149/150 : batch 40/40 : loss 4.127E-04\r\n",
      "Epoch 150/150 : batch 40/40 : loss 4.127E-04\r\n",
      "\n",
      "\n",
      "Output of the model for input 0.5 : 1.05\n"
     ]
    }
   ],
   "source": [
    "history = model.fit(X, y, batch_size=256, epochs=150)\n",
    "\n",
    "out = model.forward([[0.5]])\n",
    "print(f'\\n\\nOutput of the model for input 0.5 : {out[0][0]:.2f}')"
   ],
   "metadata": {
    "collapsed": false,
    "pycharm": {
     "name": "#%%\n"
    }
   }
  },
  {
   "cell_type": "code",
   "execution_count": 5,
   "outputs": [
    {
     "data": {
      "text/plain": "<Figure size 432x288 with 1 Axes>",
      "image/png": "[encoded data removed]"
     },
     "metadata": {
      "needs_background": "light"
     },
     "output_type": "display_data"
    }
   ],
   "source": [
    "fig=plt.figure()\n",
    "plt.grid(True)\n",
    "plt.xlabel('epochs')\n",
    "plt.ylabel('loss (mse)')\n",
    "plt.plot(history['epochs'], history['loss'])\n",
    "plt.axis([0, 160, -.001, .2])\n",
    "plt.show()"
   ],
   "metadata": {
    "collapsed": false,
    "pycharm": {
     "name": "#%%\n"
    }
   }
  }
 ],
 "metadata": {
  "kernelspec": {
   "display_name": "Python 3",
   "language": "python",
   "name": "python3"
  },
  "language_info": {
   "codemirror_mode": {
    "name": "ipython",
    "version": 2
   },
   "file_extension": ".py",
   "mimetype": "text/x-python",
   "name": "python",
   "nbconvert_exporter": "python",
   "pygments_lexer": "ipython2",
   "version": "2.7.6"
  }
 },
 "nbformat": 4,
 "nbformat_minor": 0
}