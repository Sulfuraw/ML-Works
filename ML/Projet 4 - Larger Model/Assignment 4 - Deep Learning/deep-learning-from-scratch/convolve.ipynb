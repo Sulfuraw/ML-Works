{
 "cells": [
  {
   "cell_type": "code",
   "execution_count": 1,
   "metadata": {},
   "outputs": [],
   "source": [
    "import from_scratch as fs"
   ]
  },
  {
   "cell_type": "code",
   "execution_count": 4,
   "metadata": {
    "pycharm": {
     "name": "#%%\n"
    }
   },
   "outputs": [
    {
     "name": "stdout",
     "output_type": "stream",
     "text": [
      "+------------+--------------------+--------------------+---------------+\n",
      "| Layer Name |    Input Shape     |    Output Shape    | Nb Parameters |\n",
      "+------------+--------------------+--------------------+---------------+\n",
      "|   Conv2D   | (None, 28, 28, 1)  | (None, 10, 26, 26) |      100      |\n",
      "|  Flatten   | (None, 10, 26, 26) |    (None, 6760)    |               |\n",
      "|   Dense    |    (None, 6760)    |     (None, 10)     |     67610     |\n",
      "+------------+--------------------+--------------------+---------------+\n",
      "Total parameters : 67710\n"
     ]
    }
   ],
   "source": [
    "model = fs.models.Sequential([\n",
    "    fs.layers.Conv2D(10, (3,3), input_shape=(28,28,1), padding='valid'),\n",
    "    fs.layers.Flatten(),\n",
    "    fs.layers.Dense(10),\n",
    "])\n",
    "\n",
    "print(model.summary())"
   ]
  },
  {
   "cell_type": "code",
   "execution_count": 5,
   "metadata": {
    "pycharm": {
     "name": "#%%\n"
    }
   },
   "outputs": [
    {
     "name": "stdout",
     "output_type": "stream",
     "text": [
      "(666, 10)\n"
     ]
    }
   ],
   "source": [
    "import numpy as np\n",
    "\n",
    "out = model.forward(np.random.rand(666,28,28,1))\n",
    "print(out.shape)"
   ]
  },
  {
   "cell_type": "code",
   "execution_count": null,
   "metadata": {},
   "outputs": [],
   "source": []
  }
 ],
 "metadata": {
  "kernelspec": {
   "display_name": "Python 3",
   "language": "python",
   "name": "python3"
  },
  "language_info": {
   "codemirror_mode": {
    "name": "ipython",
    "version": 3
   },
   "file_extension": ".py",
   "mimetype": "text/x-python",
   "name": "python",
   "nbconvert_exporter": "python",
   "pygments_lexer": "ipython3",
   "version": "3.8.5"
  }
 },
 "nbformat": 4,
 "nbformat_minor": 1
}
